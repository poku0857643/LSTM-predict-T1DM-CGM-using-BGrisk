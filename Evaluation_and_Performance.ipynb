{
  "nbformat": 4,
  "nbformat_minor": 0,
  "metadata": {
    "colab": {
      "provenance": [],
      "authorship_tag": "ABX9TyM3NX4hDPqrftIk4YOUhdVc",
      "include_colab_link": true
    },
    "kernelspec": {
      "name": "python3",
      "display_name": "Python 3"
    },
    "language_info": {
      "name": "python"
    }
  },
  "cells": [
    {
      "cell_type": "markdown",
      "metadata": {
        "id": "view-in-github",
        "colab_type": "text"
      },
      "source": [
        "<a href=\"https://colab.research.google.com/github/poku0857643/LSTM-predict-T1DM-CGM-using-BGrisk/blob/main/Evaluation_and_Performance.ipynb\" target=\"_parent\"><img src=\"https://colab.research.google.com/assets/colab-badge.svg\" alt=\"Open In Colab\"/></a>"
      ]
    },
    {
      "cell_type": "code",
      "execution_count": null,
      "metadata": {
        "id": "5c4_knWrq0XQ"
      },
      "outputs": [],
      "source": [
        "from sklearn.metrics import mean_squared_error\n",
        "import matplotlib.pyplot as plt\n",
        "\n",
        "def evaluate_model(y_true, predictions):\n",
        "    \"\"\"\n",
        "    Computes and returns the RMSE between true and predicted values.\n",
        "    \"\"\"\n",
        "    rmse_value = np.sqrt(mean_squared_error(y_true, predictions))\n",
        "    return rmse_value\n",
        "\n",
        "def visualize_performance(history):\n",
        "    \"\"\"\n",
        "    Visualizes the RMSE learning and loss performance during training.\n",
        "    \"\"\"\n",
        "    # Plotting loss\n",
        "    plt.figure(figsize=(14, 5))\n",
        "\n",
        "    plt.subplot(1, 2, 1)\n",
        "    plt.plot(history.history['loss'], label='Training Loss')\n",
        "    if 'val_loss' in history.history:\n",
        "        plt.plot(history.history['val_loss'], label='Validation Loss')\n",
        "    plt.title('Model Loss')\n",
        "    plt.ylabel('Loss')\n",
        "    plt.xlabel('Epoch')\n",
        "    plt.legend()\n",
        "\n",
        "    # Plotting RMSE - Note: You need to have RMSE as a metric in your model training to plot this\n",
        "    # If it's not there, this part can be commented out or removed\n",
        "    if 'Acc' in history.history:  # Assuming 'Acc' is the metric for RMSE\n",
        "        plt.subplot(1, 2, 2)\n",
        "        plt.plot(history.history['Acc'], label='Training RMSE')\n",
        "        if 'val_Acc' in history.history:\n",
        "            plt.plot(history.history['val_Acc'], label='Validation RMSE')\n",
        "        plt.title('Model RMSE')\n",
        "        plt.ylabel('RMSE')\n",
        "        plt.xlabel('Epoch')\n",
        "        plt.legend()\n",
        "\n",
        "    plt.tight_layout()\n",
        "    plt.show()\n",
        "\n",
        "# Since I don't have the history object from your model training, I can't directly visualize it here.\n",
        "# However, you can use it in your actual implementation like:\n",
        "# visualize_performance(history_from_training)"
      ]
    }
  ]
}