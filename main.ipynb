{
  "nbformat": 4,
  "nbformat_minor": 0,
  "metadata": {
    "colab": {
      "provenance": [],
      "authorship_tag": "ABX9TyM7soHtrORoCiR0jqRLeopD",
      "include_colab_link": true
    },
    "kernelspec": {
      "name": "python3",
      "display_name": "Python 3"
    },
    "language_info": {
      "name": "python"
    }
  },
  "cells": [
    {
      "cell_type": "markdown",
      "metadata": {
        "id": "view-in-github",
        "colab_type": "text"
      },
      "source": [
        "<a href=\"https://colab.research.google.com/github/poku0857643/LSTM-predict-T1DM-CGM-using-BGrisk/blob/main/main.ipynb\" target=\"_parent\"><img src=\"https://colab.research.google.com/assets/colab-badge.svg\" alt=\"Open In Colab\"/></a>"
      ]
    },
    {
      "cell_type": "code",
      "execution_count": null,
      "metadata": {
        "id": "UibxLce5kuQE"
      },
      "outputs": [],
      "source": [
        "#BGrisk_calculation\n",
        "BGrisk_calculation(Value)\n",
        "return normalized_BGrisk_score\n",
        "save as BGrisk.csv\n",
        "\n",
        "#LSTM_model_prediction_with_BGrisk\n",
        "load_data(BGrisk.csv)\n",
        "process_data_for_patient(patient_data, n_steps_in)\n",
        "return X_train, y_train, X_test, y_test, X_val, y_val\n",
        "prepare_data(BGrisk_data, n_steps_in)\n",
        "return X_train_all, y_train_all, X_test_all, y_test<all, X_val_all, y_val_all\n",
        "train_model(X_train_all, y_train_all, n_steps_in, n_features, epochs=3)\n",
        "return model\n",
        "make_predictions(model, X_test_all)\n",
        "return model.prediction(X_test_all)\n",
        "\n",
        "#Evaluation_and_Perforamce\n",
        "evaluate_model(y_test_all, predictions)\n",
        "return rmse_value\n",
        "visualize_performance(history)\n",
        "plot Loss\n",
        "plot Accuracy\n",
        "\n",
        "#Save_mode\n",
        "save_training_history(history, filename.json)\n",
        "load_training_history(load filename.json)\n",
        "train_with_tensorboard(model, X_train, y_train, X_val, y_val, epochs=n, log_dir='.;logs')\n",
        "return history"
      ]
    }
  ]
}